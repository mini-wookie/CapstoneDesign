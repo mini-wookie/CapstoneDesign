{
 "cells": [
  {
   "cell_type": "code",
   "execution_count": null,
   "metadata": {},
   "outputs": [],
   "source": [
    "import os\n",
    "\n",
    "# 데이터셋 분리\n",
    "\n",
    "base_dir = './datasets'\n",
    "\n",
    "origin_dir = os.path.join(base_dir, 'origin')\n",
    "train_dir = os.path.join(base_dir, 'train')\n",
    "test_dir = os.path.join(base_dir, 'test')\n",
    "\n",
    "train_0_front_dir = os.path.join(train_dir, '0_front')\n",
    "train_1_back_dir = os.path.join(train_dir, '1_back')\n",
    "train_1_front_dir = os.path.join(train_dir, '1_front')\n",
    "train_2_back_dir = os.path.join(train_dir, '2_back')\n",
    "train_2_front_dir = os.path.join(train_dir, '2_front')\n",
    "train_5_front_dir = os.path.join(train_dir, '5_front')\n",
    "train_ILU_dir = os.path.join(train_dir, 'ILU')\n",
    "\n",
    "test_0_front_dir = os.path.join(test_dir, '0_front')\n",
    "test_1_back_dir = os.path.join(test_dir, '1_back')\n",
    "test_1_front_dir = os.path.join(test_dir, '1_front')\n",
    "test_2_back_dir = os.path.join(test_dir, '2_back')\n",
    "test_2_front_dir = os.path.join(test_dir, '2_front')\n",
    "test_5_front_dir = os.path.join(test_dir, '5_front')\n",
    "test_ILU_dir = os.path.join(test_dir, 'ILU')\n",
    "\n",
    "save_dir = os.path.join(base_dir, 'saved_models')"
   ]
  },
  {
   "cell_type": "code",
   "execution_count": null,
   "metadata": {},
   "outputs": [],
   "source": [
    "import tensorflow as tf\n",
    "from tensorflow.preprocessing.image import ImageDataGenerator\n",
    "\n",
    "train_datagen = ImageDataGenerator(rescale=1./255)\n",
    "val_datagen = \n"
   ]
  }
 ],
 "metadata": {
  "kernelspec": {
   "display_name": "Python 3",
   "language": "python",
   "name": "python3"
  },
  "language_info": {
   "codemirror_mode": {
    "name": "ipython",
    "version": 3
   },
   "file_extension": ".py",
   "mimetype": "text/x-python",
   "name": "python",
   "nbconvert_exporter": "python",
   "pygments_lexer": "ipython3",
   "version": "3.7.6"
  }
 },
 "nbformat": 4,
 "nbformat_minor": 4
}
