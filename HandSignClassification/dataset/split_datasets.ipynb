{
 "cells": [
  {
   "cell_type": "code",
   "execution_count": 1,
   "metadata": {
    "scrolled": true
   },
   "outputs": [],
   "source": [
    "import os\n",
    "\n",
    "# 전체 데이터 디렉토리\n",
    "hand_dir = 'hand'\n",
    "\n",
    "# 훈련, 검증 데이터 디렉토리\n",
    "train_dir = 'train'\n",
    "val_dir = 'val'\n",
    "\n",
    "# 훈련 데이터를 위치시킬 경로\n",
    "train_0_front_dir = os.path.join(train_dir, '0_front')\n",
    "train_1_back_dir = os.path.join(train_dir, '1_back')\n",
    "train_1_front_dir = os.path.join(train_dir, '1_front')\n",
    "train_2_back_dir = os.path.join(train_dir, '2_back')\n",
    "train_2_front_dir = os.path.join(train_dir, '2_front')\n",
    "train_5_front_dir = os.path.join(train_dir, '5_front')\n",
    "train_ILU_dir = os.path.join(train_dir, 'ILU')\n",
    "\n",
    "# 검증 데이터를 위치시킬 경로\n",
    "val_0_front_dir = os.path.join(val_dir, '0_front')\n",
    "val_1_back_dir = os.path.join(val_dir, '1_back')\n",
    "val_1_front_dir = os.path.join(val_dir, '1_front')\n",
    "val_2_back_dir = os.path.join(val_dir, '2_back')\n",
    "val_2_front_dir = os.path.join(val_dir, '2_front')\n",
    "val_5_front_dir = os.path.join(val_dir, '5_front')\n",
    "val_ILU_dir = os.path.join(val_dir, 'ILU')"
   ]
  },
  {
   "cell_type": "code",
   "execution_count": 2,
   "metadata": {},
   "outputs": [],
   "source": [
    "# 훈련 데이터 디렉토리 생성\n",
    "if not os.path.isdir(train_0_front_dir) :\n",
    "    os.mkdir(train_0_front_dir)\n",
    "    \n",
    "if not os.path.isdir(train_1_back_dir) :\n",
    "    os.mkdir(train_1_back_dir)\n",
    "    \n",
    "if not os.path.isdir(train_1_front_dir) :\n",
    "    os.mkdir(train_1_front_dir)\n",
    "    \n",
    "if not os.path.isdir(train_2_back_dir) :\n",
    "    os.mkdir(train_2_back_dir)\n",
    "    \n",
    "if not os.path.isdir(train_2_front_dir) :\n",
    "    os.mkdir(train_2_front_dir)\n",
    "    \n",
    "if not os.path.isdir(train_5_front_dir) :\n",
    "    os.mkdir(train_5_front_dir)\n",
    "    \n",
    "if not os.path.isdir(train_ILU_dir) :\n",
    "    os.mkdir(train_ILU_dir)\n",
    "\n",
    "    \n",
    "# 검증 데이터 디렉토리 생성\n",
    "if not os.path.isdir(val_0_front_dir) :\n",
    "    os.mkdir(val_0_front_dir)\n",
    "\n",
    "if not os.path.isdir(val_1_back_dir) :\n",
    "    os.mkdir(val_1_back_dir)\n",
    "    \n",
    "if not os.path.isdir(val_1_front_dir) :\n",
    "    os.mkdir(val_1_front_dir)\n",
    "    \n",
    "if not os.path.isdir(val_2_back_dir) :\n",
    "    os.mkdir(val_2_back_dir)\n",
    "    \n",
    "if not os.path.isdir(val_2_front_dir) :\n",
    "    os.mkdir(val_2_front_dir)\n",
    "    \n",
    "if not os.path.isdir(val_5_front_dir) :\n",
    "    os.mkdir(val_5_front_dir)\n",
    "    \n",
    "if not os.path.isdir(val_ILU_dir) :\n",
    "    os.mkdir(val_ILU_dir)"
   ]
  },
  {
   "cell_type": "code",
   "execution_count": 3,
   "metadata": {},
   "outputs": [],
   "source": [
    "import shutil\n",
    "import random\n",
    "\n",
    "for class_name in sorted(os.listdir(hand_dir)):\n",
    "    class_imgs = sorted(os.listdir(os.path.join(hand_dir, class_name)))\n",
    "    random.shuffle(class_imgs)\n",
    "    \n",
    "    src_val_imgs = [os.path.join(hand_dir, class_name, img) for img in class_imgs[:70]]\n",
    "    src_train_imgs = [os.path.join(hand_dir, class_name, img) for img in class_imgs[70:]]\n",
    "    \n",
    "    dst_val_imgs = [os.path.join(val_dir, class_name, img) for img in class_imgs[:70]]\n",
    "    dst_train_imgs = [os.path.join(train_dir, class_name, img) for img in class_imgs[70:]]\n",
    "    \n",
    "    for src, dst in zip(src_val_imgs, dst_val_imgs):\n",
    "        shutil.copy(src, dst)\n",
    "        \n",
    "    for src, dst in zip(src_train_imgs, dst_train_imgs):\n",
    "        shutil.copy(src, dst)"
   ]
  }
 ],
 "metadata": {
  "kernelspec": {
   "display_name": "Python 3",
   "language": "python",
   "name": "python3"
  },
  "language_info": {
   "codemirror_mode": {
    "name": "ipython",
    "version": 3
   },
   "file_extension": ".py",
   "mimetype": "text/x-python",
   "name": "python",
   "nbconvert_exporter": "python",
   "pygments_lexer": "ipython3",
   "version": "3.7.6"
  }
 },
 "nbformat": 4,
 "nbformat_minor": 2
}
